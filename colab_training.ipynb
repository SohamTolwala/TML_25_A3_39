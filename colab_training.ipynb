{
  "nbformat": 4,
  "nbformat_minor": 0,
  "metadata": {
    "colab": {
      "provenance": [],
      "gpuType": "T4",
      "collapsed_sections": [
        "abJlmdTJAlFh",
        "xztaM8fRAs7W",
        "lP7wIblFUZLl",
        "ApISnjy4UvhD",
        "CWEMkD_2l-Kf",
        "G3rmP02fuWYh",
        "-Yk8S7WMuaec"
      ]
    },
    "kernelspec": {
      "name": "python3",
      "display_name": "Python 3"
    },
    "language_info": {
      "name": "python"
    },
    "accelerator": "GPU"
  },
  "cells": [
    {
      "cell_type": "markdown",
      "source": [
        "### BASE WORKING standard PGD"
      ],
      "metadata": {
        "id": "abJlmdTJAlFh"
      }
    },
    {
      "cell_type": "code",
      "execution_count": null,
      "metadata": {
        "id": "kUbVi8xcvWZz"
      },
      "outputs": [],
      "source": [
        "import os\n",
        "import torch\n",
        "import torch.nn as nn\n",
        "import torch.nn.functional as F\n",
        "from torch.utils.data import DataLoader, Dataset\n",
        "from torchvision import transforms\n",
        "from torchvision.transforms.functional import to_pil_image\n",
        "from tqdm import tqdm\n"
      ]
    },
    {
      "cell_type": "code",
      "source": [
        "epsilon    = 8/255\n",
        "alpha      = 2/255\n",
        "pgd_steps  = 7\n",
        "batch_size = 128\n",
        "epochs     = 25\n",
        "lr         = 1e-3\n",
        "device     = torch.device(\"cuda\" if torch.cuda.is_available() else \"cpu\")\n"
      ],
      "metadata": {
        "id": "wvORuFTNvn0g"
      },
      "execution_count": null,
      "outputs": []
    },
    {
      "cell_type": "code",
      "source": [
        "# --- Begin: Dataset class definitions needed for torch.load ---\n",
        "import torch\n",
        "from torch.utils.data import Dataset\n",
        "from typing import Tuple\n",
        "\n",
        "class TaskDataset(Dataset):\n",
        "    def __init__(self, transform=None):\n",
        "        self.ids = []\n",
        "        self.imgs = []\n",
        "        self.labels = []\n",
        "        self.transform = transform\n",
        "\n",
        "    def __getitem__(self, index) -> Tuple[int, torch.Tensor, int]:\n",
        "        id_ = self.ids[index]\n",
        "        img = self.imgs[index]\n",
        "        if self.transform:\n",
        "            img = self.transform(img)\n",
        "        label = self.labels[index]\n",
        "        return id_, img, label\n",
        "\n",
        "    def __len__(self):\n",
        "        return len(self.ids)\n",
        "# --- End: Dataset class definitions ---\n"
      ],
      "metadata": {
        "id": "jOYvyq8tvrlD"
      },
      "execution_count": null,
      "outputs": []
    },
    {
      "cell_type": "code",
      "source": [
        "from PIL import Image\n",
        "\n",
        "class DataWrapper(Dataset):\n",
        "    \"\"\"Wraps provided TaskDataset (idx, PIL.Image, label) → (Tensor, label).\"\"\"\n",
        "    def __init__(self, base_dataset, transform=None):\n",
        "        self.base = base_dataset\n",
        "        self.transform = transform or transforms.ToTensor()\n",
        "\n",
        "    def __len__(self):\n",
        "        return len(self.base)\n",
        "\n",
        "    def __getitem__(self, idx):\n",
        "        rec = self.base[idx]\n",
        "        if len(rec) == 3:\n",
        "            _, img, label = rec\n",
        "        elif len(rec) == 2:\n",
        "            img, label = rec\n",
        "        else:\n",
        "            raise ValueError(f\"Unexpected tuple length {len(rec)}\")\n",
        "\n",
        "        # Convert to RGB if not already\n",
        "        if isinstance(img, torch.Tensor):\n",
        "            if img.max() > 1: img = img.float() / 255.\n",
        "            img = to_pil_image(img)\n",
        "\n",
        "        if img.mode != \"RGB\":\n",
        "            img = img.convert(\"RGB\")\n",
        "\n",
        "        img = self.transform(img)\n",
        "        return img, int(label)\n"
      ],
      "metadata": {
        "id": "oeFXuatPvsif"
      },
      "execution_count": null,
      "outputs": []
    },
    {
      "cell_type": "code",
      "source": [
        "raw_ds = torch.load(\"/content/data/Train.pt\", weights_only=False)    # your provided TaskDataset\n",
        "dataset = DataWrapper(raw_ds, transform=transforms.ToTensor())\n",
        "loader  = DataLoader(dataset,\n",
        "                     batch_size=batch_size,\n",
        "                     shuffle=True,\n",
        "                     num_workers=0,\n",
        "                     pin_memory=True)\n",
        "\n",
        "# Sanity check\n",
        "x0, y0 = dataset[0]\n",
        "assert isinstance(x0, torch.Tensor) and x0.max() <= 1.0 and x0.min() >= 0.0\n",
        "assert isinstance(y0, int)\n"
      ],
      "metadata": {
        "id": "mLe-XxHuvu9Z"
      },
      "execution_count": null,
      "outputs": []
    },
    {
      "cell_type": "code",
      "source": [
        "from resnet_wrapper import ResNetWrapper  # your existing model file\n",
        "\n",
        "model = ResNetWrapper(\"resnet18\", num_classes=10).to(device)\n",
        "opt   = torch.optim.Adam(model.parameters(), lr=lr)\n",
        "crit  = nn.CrossEntropyLoss()"
      ],
      "metadata": {
        "colab": {
          "base_uri": "https://localhost:8080/"
        },
        "id": "SDNfHutmvxcY",
        "outputId": "5c21bf18-debb-4d0b-ce00-febcdf08b24c"
      },
      "execution_count": null,
      "outputs": [
        {
          "output_type": "stream",
          "name": "stderr",
          "text": [
            "/usr/local/lib/python3.11/dist-packages/torchvision/models/_utils.py:208: UserWarning: The parameter 'pretrained' is deprecated since 0.13 and may be removed in the future, please use 'weights' instead.\n",
            "  warnings.warn(\n",
            "/usr/local/lib/python3.11/dist-packages/torchvision/models/_utils.py:223: UserWarning: Arguments other than a weight enum or `None` for 'weights' are deprecated since 0.13 and may be removed in the future. The current behavior is equivalent to passing `weights=None`.\n",
            "  warnings.warn(msg)\n"
          ]
        }
      ]
    },
    {
      "cell_type": "code",
      "source": [
        "def pgd_attack(m, x, y, eps=epsilon, alpha=alpha, iters=pgd_steps):\n",
        "    x_orig = x.detach()\n",
        "    delta = torch.zeros_like(x).uniform_(-eps, eps).to(device)\n",
        "    delta.requires_grad = True\n",
        "\n",
        "    for _ in range(iters):\n",
        "        logits = m(x + delta)\n",
        "        loss   = crit(logits, y)\n",
        "        loss.backward()\n",
        "        # gradient step on delta\n",
        "        delta.data = (delta + alpha * delta.grad.sign()).clamp(-eps, eps)\n",
        "        delta.data = (x_orig + delta.data).clamp(0, 1) - x_orig\n",
        "        delta.grad.zero_()\n",
        "\n",
        "    return (x_orig + delta.detach()).clamp(0, 1)"
      ],
      "metadata": {
        "id": "8saXV0dUv9e1"
      },
      "execution_count": null,
      "outputs": []
    },
    {
      "cell_type": "code",
      "source": [
        "for epoch in range(1, epochs+1):\n",
        "    model.train()\n",
        "    total_loss, total_corr, total_num = 0.0, 0, 0\n",
        "\n",
        "    for imgs, labels in tqdm(loader, desc=f\"Epoch {epoch}/{epochs}\"):\n",
        "        imgs, labels = imgs.to(device), labels.to(device)\n",
        "\n",
        "        # generate adversarial examples\n",
        "        adv = pgd_attack(model, imgs, labels)\n",
        "\n",
        "        # train on them\n",
        "        opt.zero_grad()\n",
        "        out = model(adv)\n",
        "        loss = crit(out, labels)\n",
        "        loss.backward()\n",
        "        opt.step()\n",
        "\n",
        "        # stats\n",
        "        total_loss += loss.item() * imgs.size(0)\n",
        "        preds = out.argmax(dim=1)\n",
        "        total_corr += (preds == labels).sum().item()\n",
        "        total_num  += imgs.size(0)\n",
        "\n",
        "    avg_loss = total_loss / total_num\n",
        "    acc      = 100 * total_corr / total_num\n",
        "    print(f\"[Epoch {epoch:2d}] Loss={avg_loss:.4f}, Clean Acc={acc:.2f}%\")"
      ],
      "metadata": {
        "colab": {
          "base_uri": "https://localhost:8080/"
        },
        "id": "jOdleC9uwBO5",
        "outputId": "64f3fcfc-1683-42e0-c9aa-2bb0feff6b77"
      },
      "execution_count": null,
      "outputs": [
        {
          "output_type": "stream",
          "name": "stderr",
          "text": [
            "Epoch 1/25: 100%|██████████| 782/782 [02:22<00:00,  5.48it/s]\n"
          ]
        },
        {
          "output_type": "stream",
          "name": "stdout",
          "text": [
            "[Epoch  1] Loss=1.7956, Clean Acc=31.34%\n"
          ]
        },
        {
          "output_type": "stream",
          "name": "stderr",
          "text": [
            "Epoch 2/25: 100%|██████████| 782/782 [02:24<00:00,  5.41it/s]\n"
          ]
        },
        {
          "output_type": "stream",
          "name": "stdout",
          "text": [
            "[Epoch  2] Loss=1.7375, Clean Acc=33.02%\n"
          ]
        },
        {
          "output_type": "stream",
          "name": "stderr",
          "text": [
            "Epoch 3/25: 100%|██████████| 782/782 [02:24<00:00,  5.40it/s]\n"
          ]
        },
        {
          "output_type": "stream",
          "name": "stdout",
          "text": [
            "[Epoch  3] Loss=1.7205, Clean Acc=34.06%\n"
          ]
        },
        {
          "output_type": "stream",
          "name": "stderr",
          "text": [
            "Epoch 4/25: 100%|██████████| 782/782 [02:24<00:00,  5.40it/s]\n"
          ]
        },
        {
          "output_type": "stream",
          "name": "stdout",
          "text": [
            "[Epoch  4] Loss=1.7019, Clean Acc=35.08%\n"
          ]
        },
        {
          "output_type": "stream",
          "name": "stderr",
          "text": [
            "Epoch 5/25: 100%|██████████| 782/782 [02:24<00:00,  5.40it/s]\n"
          ]
        },
        {
          "output_type": "stream",
          "name": "stdout",
          "text": [
            "[Epoch  5] Loss=1.6892, Clean Acc=35.77%\n"
          ]
        },
        {
          "output_type": "stream",
          "name": "stderr",
          "text": [
            "Epoch 6/25: 100%|██████████| 782/782 [02:24<00:00,  5.40it/s]\n"
          ]
        },
        {
          "output_type": "stream",
          "name": "stdout",
          "text": [
            "[Epoch  6] Loss=1.6805, Clean Acc=36.33%\n"
          ]
        },
        {
          "output_type": "stream",
          "name": "stderr",
          "text": [
            "Epoch 7/25: 100%|██████████| 782/782 [02:24<00:00,  5.40it/s]\n"
          ]
        },
        {
          "output_type": "stream",
          "name": "stdout",
          "text": [
            "[Epoch  7] Loss=1.6723, Clean Acc=36.66%\n"
          ]
        },
        {
          "output_type": "stream",
          "name": "stderr",
          "text": [
            "Epoch 8/25: 100%|██████████| 782/782 [02:24<00:00,  5.41it/s]\n"
          ]
        },
        {
          "output_type": "stream",
          "name": "stdout",
          "text": [
            "[Epoch  8] Loss=1.6663, Clean Acc=37.21%\n"
          ]
        },
        {
          "output_type": "stream",
          "name": "stderr",
          "text": [
            "Epoch 9/25: 100%|██████████| 782/782 [02:23<00:00,  5.44it/s]\n"
          ]
        },
        {
          "output_type": "stream",
          "name": "stdout",
          "text": [
            "[Epoch  9] Loss=1.6613, Clean Acc=37.32%\n"
          ]
        },
        {
          "output_type": "stream",
          "name": "stderr",
          "text": [
            "Epoch 10/25: 100%|██████████| 782/782 [02:23<00:00,  5.45it/s]\n"
          ]
        },
        {
          "output_type": "stream",
          "name": "stdout",
          "text": [
            "[Epoch 10] Loss=1.6555, Clean Acc=37.61%\n"
          ]
        },
        {
          "output_type": "stream",
          "name": "stderr",
          "text": [
            "Epoch 11/25: 100%|██████████| 782/782 [02:23<00:00,  5.44it/s]\n"
          ]
        },
        {
          "output_type": "stream",
          "name": "stdout",
          "text": [
            "[Epoch 11] Loss=1.6528, Clean Acc=37.82%\n"
          ]
        },
        {
          "output_type": "stream",
          "name": "stderr",
          "text": [
            "Epoch 12/25: 100%|██████████| 782/782 [02:23<00:00,  5.45it/s]\n"
          ]
        },
        {
          "output_type": "stream",
          "name": "stdout",
          "text": [
            "[Epoch 12] Loss=1.6462, Clean Acc=38.13%\n"
          ]
        },
        {
          "output_type": "stream",
          "name": "stderr",
          "text": [
            "Epoch 13/25: 100%|██████████| 782/782 [02:23<00:00,  5.45it/s]\n"
          ]
        },
        {
          "output_type": "stream",
          "name": "stdout",
          "text": [
            "[Epoch 13] Loss=1.6422, Clean Acc=38.26%\n"
          ]
        },
        {
          "output_type": "stream",
          "name": "stderr",
          "text": [
            "Epoch 14/25: 100%|██████████| 782/782 [02:23<00:00,  5.45it/s]\n"
          ]
        },
        {
          "output_type": "stream",
          "name": "stdout",
          "text": [
            "[Epoch 14] Loss=1.6389, Clean Acc=38.29%\n"
          ]
        },
        {
          "output_type": "stream",
          "name": "stderr",
          "text": [
            "Epoch 15/25: 100%|██████████| 782/782 [02:23<00:00,  5.45it/s]\n"
          ]
        },
        {
          "output_type": "stream",
          "name": "stdout",
          "text": [
            "[Epoch 15] Loss=1.6356, Clean Acc=38.42%\n"
          ]
        },
        {
          "output_type": "stream",
          "name": "stderr",
          "text": [
            "Epoch 16/25: 100%|██████████| 782/782 [02:23<00:00,  5.45it/s]\n"
          ]
        },
        {
          "output_type": "stream",
          "name": "stdout",
          "text": [
            "[Epoch 16] Loss=1.6299, Clean Acc=38.69%\n"
          ]
        },
        {
          "output_type": "stream",
          "name": "stderr",
          "text": [
            "Epoch 17/25: 100%|██████████| 782/782 [02:23<00:00,  5.44it/s]\n"
          ]
        },
        {
          "output_type": "stream",
          "name": "stdout",
          "text": [
            "[Epoch 17] Loss=1.6261, Clean Acc=38.84%\n"
          ]
        },
        {
          "output_type": "stream",
          "name": "stderr",
          "text": [
            "Epoch 18/25: 100%|██████████| 782/782 [02:23<00:00,  5.45it/s]\n"
          ]
        },
        {
          "output_type": "stream",
          "name": "stdout",
          "text": [
            "[Epoch 18] Loss=1.6204, Clean Acc=38.91%\n"
          ]
        },
        {
          "output_type": "stream",
          "name": "stderr",
          "text": [
            "Epoch 19/25: 100%|██████████| 782/782 [02:23<00:00,  5.45it/s]\n"
          ]
        },
        {
          "output_type": "stream",
          "name": "stdout",
          "text": [
            "[Epoch 19] Loss=1.6158, Clean Acc=39.12%\n"
          ]
        },
        {
          "output_type": "stream",
          "name": "stderr",
          "text": [
            "Epoch 20/25: 100%|██████████| 782/782 [02:23<00:00,  5.46it/s]\n"
          ]
        },
        {
          "output_type": "stream",
          "name": "stdout",
          "text": [
            "[Epoch 20] Loss=1.6107, Clean Acc=39.24%\n"
          ]
        },
        {
          "output_type": "stream",
          "name": "stderr",
          "text": [
            "Epoch 21/25: 100%|██████████| 782/782 [02:23<00:00,  5.45it/s]\n"
          ]
        },
        {
          "output_type": "stream",
          "name": "stdout",
          "text": [
            "[Epoch 21] Loss=1.6048, Clean Acc=39.45%\n"
          ]
        },
        {
          "output_type": "stream",
          "name": "stderr",
          "text": [
            "Epoch 22/25: 100%|██████████| 782/782 [02:23<00:00,  5.44it/s]\n"
          ]
        },
        {
          "output_type": "stream",
          "name": "stdout",
          "text": [
            "[Epoch 22] Loss=1.5980, Clean Acc=39.69%\n"
          ]
        },
        {
          "output_type": "stream",
          "name": "stderr",
          "text": [
            "Epoch 23/25: 100%|██████████| 782/782 [02:24<00:00,  5.43it/s]\n"
          ]
        },
        {
          "output_type": "stream",
          "name": "stdout",
          "text": [
            "[Epoch 23] Loss=1.5912, Clean Acc=39.90%\n"
          ]
        },
        {
          "output_type": "stream",
          "name": "stderr",
          "text": [
            "Epoch 24/25: 100%|██████████| 782/782 [02:23<00:00,  5.46it/s]\n"
          ]
        },
        {
          "output_type": "stream",
          "name": "stdout",
          "text": [
            "[Epoch 24] Loss=1.5839, Clean Acc=40.17%\n"
          ]
        },
        {
          "output_type": "stream",
          "name": "stderr",
          "text": [
            "Epoch 25/25: 100%|██████████| 782/782 [02:23<00:00,  5.45it/s]"
          ]
        },
        {
          "output_type": "stream",
          "name": "stdout",
          "text": [
            "[Epoch 25] Loss=1.5732, Clean Acc=40.44%\n"
          ]
        },
        {
          "output_type": "stream",
          "name": "stderr",
          "text": [
            "\n"
          ]
        }
      ]
    },
    {
      "cell_type": "code",
      "source": [
        "os.makedirs(\"saved_models\", exist_ok=True)\n",
        "torch.save(model.state_dict(), \"saved_models/PGD_madry_model.pt\")\n",
        "print(\"Model saved → saved_models/PGD_madry_model.pt\")"
      ],
      "metadata": {
        "colab": {
          "base_uri": "https://localhost:8080/"
        },
        "id": "S_ZAuCigwuZ9",
        "outputId": "eb80a1c2-c306-4bb4-9828-0c47c25633ad"
      },
      "execution_count": null,
      "outputs": [
        {
          "output_type": "stream",
          "name": "stdout",
          "text": [
            "Model saved → saved_models/PGD_madry_model.pt\n"
          ]
        }
      ]
    },
    {
      "cell_type": "markdown",
      "source": [
        "### STANDARD PGD WITH OPTIM\n",
        "AND 70-30 composition of adv and clean data"
      ],
      "metadata": {
        "id": "xztaM8fRAs7W"
      }
    },
    {
      "cell_type": "code",
      "source": [
        "import os\n",
        "import torch\n",
        "import torch.nn as nn\n",
        "import torch.nn.functional as F\n",
        "from torch.utils.data import DataLoader, Dataset\n",
        "from torchvision import transforms\n",
        "from torchvision.transforms.functional import to_pil_image\n",
        "from tqdm import tqdm\n",
        "# from resnet_wrapper import ResNetWrapper\n",
        "from torch.optim.lr_scheduler import MultiStepLR\n"
      ],
      "metadata": {
        "id": "UpHQzOhiw318"
      },
      "execution_count": 1,
      "outputs": []
    },
    {
      "cell_type": "code",
      "source": [
        "epsilon    = 8/255\n",
        "alpha      = 2/255\n",
        "pgd_max_steps = 7\n",
        "batch_size = 128\n",
        "epochs     = 25\n",
        "lr         = 1e-3\n",
        "device     = torch.device(\"cuda\" if torch.cuda.is_available() else \"cpu\")\n"
      ],
      "metadata": {
        "id": "_81u08syA8Eb"
      },
      "execution_count": 2,
      "outputs": []
    },
    {
      "cell_type": "code",
      "source": [
        "# --- hyperparameters ---\n",
        "clean_ratio   = 0.80        #   <-- change here\n",
        "epsilon       = 8/255\n",
        "alpha         = 1/255       #   finer PGD updates\n",
        "pgd_max_steps = 7\n",
        "batch_size    = 128\n",
        "epochs        = 30          #   a few more epochs with cosine is cheap\n",
        "base_lr       = 0.2         #   SGD works well with higher LR\n",
        "device        = torch.device(\"cuda\" if torch.cuda.is_available() else \"cpu\")"
      ],
      "metadata": {
        "id": "YfdLOrNcXRTV"
      },
      "execution_count": 7,
      "outputs": []
    },
    {
      "cell_type": "code",
      "source": [
        "# --- Begin: Dataset class definitions needed for torch.load ---\n",
        "import torch\n",
        "from torch.utils.data import Dataset\n",
        "from typing import Tuple\n",
        "\n",
        "class TaskDataset(Dataset):\n",
        "    def __init__(self, transform=None):\n",
        "        self.ids = []\n",
        "        self.imgs = []\n",
        "        self.labels = []\n",
        "        self.transform = transform\n",
        "\n",
        "    def __getitem__(self, index) -> Tuple[int, torch.Tensor, int]:\n",
        "        id_ = self.ids[index]\n",
        "        img = self.imgs[index]\n",
        "        if self.transform:\n",
        "            img = self.transform(img)\n",
        "        label = self.labels[index]\n",
        "        return id_, img, label\n",
        "\n",
        "    def __len__(self):\n",
        "        return len(self.ids)\n",
        "# --- End: Dataset class definitions ---\n"
      ],
      "metadata": {
        "id": "_FXeDOBJBAdF"
      },
      "execution_count": 3,
      "outputs": []
    },
    {
      "cell_type": "code",
      "source": [
        "from PIL import Image\n",
        "\n",
        "class DataWrapper(Dataset):\n",
        "    \"\"\"Wraps provided TaskDataset (idx, PIL.Image, label) → (Tensor, label).\"\"\"\n",
        "    def __init__(self, base_dataset, transform=None):\n",
        "        self.base = base_dataset\n",
        "        # self.transform = transform or transforms.ToTensor()\n",
        "        self.transform = transforms.functional.to_tensor\n",
        "\n",
        "    def __len__(self):\n",
        "        return len(self.base)\n",
        "\n",
        "    def __getitem__(self, idx):\n",
        "        rec = self.base[idx]\n",
        "        if len(rec) == 3:\n",
        "            _, img, label = rec\n",
        "        elif len(rec) == 2:\n",
        "            img, label = rec\n",
        "        else:\n",
        "            raise ValueError(f\"Unexpected tuple length {len(rec)}\")\n",
        "\n",
        "        # Convert to RGB if not already\n",
        "        if isinstance(img, torch.Tensor):\n",
        "            if img.max() > 1: img = img.float() / 255.\n",
        "            img = to_pil_image(img)\n",
        "\n",
        "        if img.mode != \"RGB\":\n",
        "            img = img.convert(\"RGB\")\n",
        "\n",
        "        img = self.transform(img)\n",
        "        return img, int(label)\n"
      ],
      "metadata": {
        "id": "EG-hFwB6BDqJ"
      },
      "execution_count": 4,
      "outputs": []
    },
    {
      "cell_type": "code",
      "source": [
        "# --- Load Dataset ---\n",
        "raw_ds = torch.load(\"/content/data/Train.pt\", weights_only=False)\n",
        "dataset = DataWrapper(raw_ds, transform=transforms.ToTensor())\n",
        "loader = DataLoader(dataset, batch_size=batch_size, shuffle=True, num_workers=0, pin_memory=True)"
      ],
      "metadata": {
        "id": "MZEs4p4-Bn5Q"
      },
      "execution_count": 5,
      "outputs": []
    },
    {
      "cell_type": "code",
      "source": [
        "# # --- Model, Optimizer, Scheduler ---\n",
        "# model = ResNetWrapper(\"resnet18\", num_classes=10).to(device)\n",
        "# opt = torch.optim.Adam(model.parameters(), lr=lr)\n",
        "# scheduler = MultiStepLR(opt, milestones=[10, 20], gamma=0.1)\n",
        "# crit = nn.CrossEntropyLoss()\n",
        "\n",
        "\n",
        "\n",
        "# --- Model, Optimizer, Scheduler ---\n",
        "from torchvision import models\n",
        "import torch.nn as nn\n",
        "from torch.optim.lr_scheduler import MultiStepLR\n",
        "\n",
        "model = models.resnet18(weights=None)  # ✅ vanilla torchvision resnet18\n",
        "model.fc = nn.Linear(model.fc.in_features, 10)  # adjust for 10 classes\n",
        "model = model.to(device)\n",
        "\n",
        "opt = torch.optim.Adam(model.parameters(), lr=lr)\n",
        "scheduler = MultiStepLR(opt, milestones=[10, 20], gamma=0.1)\n",
        "crit = nn.CrossEntropyLoss()\n"
      ],
      "metadata": {
        "id": "vI2Ag8zmBxxO"
      },
      "execution_count": 6,
      "outputs": []
    },
    {
      "cell_type": "code",
      "source": [
        "def pgd_attack(model, x, y, eps, alpha, iters):\n",
        "    x_orig = x.detach()\n",
        "    delta = torch.zeros_like(x).uniform_(-eps, eps).to(device)\n",
        "    delta.requires_grad = True\n",
        "\n",
        "    for _ in range(iters):\n",
        "        logits = model(x + delta)\n",
        "        loss = crit(logits, y)\n",
        "        loss.backward()\n",
        "        delta.data = (delta + alpha * delta.grad.sign()).clamp(-eps, eps)\n",
        "        delta.data = (x_orig + delta.data).clamp(0, 1) - x_orig\n",
        "        delta.grad.zero_()\n",
        "\n",
        "    return (x_orig + delta.detach()).clamp(0, 1)"
      ],
      "metadata": {
        "id": "4pfXKQAoB_oo"
      },
      "execution_count": 7,
      "outputs": []
    },
    {
      "cell_type": "markdown",
      "source": [
        "#### TRAINING LOOP: 70-30 data comp with"
      ],
      "metadata": {
        "id": "lP7wIblFUZLl"
      }
    },
    {
      "cell_type": "code",
      "source": [
        "# --- Training Loop ---\n",
        "for epoch in range(1, epochs + 1):\n",
        "    model.train()\n",
        "    total_loss, total_corr, total_num = 0.0, 0, 0\n",
        "    pgd_steps = min(1 + epoch // 2, pgd_max_steps)\n",
        "\n",
        "    for imgs, labels in tqdm(loader, desc=f\"Epoch {epoch}/{epochs} (PGD steps: {pgd_steps})\"):\n",
        "        imgs, labels = imgs.to(device), labels.to(device)\n",
        "\n",
        "        # 70% clean, 30% PGD adversarial examples\n",
        "        out_clean = model(imgs)\n",
        "        adv_imgs = pgd_attack(model, imgs, labels, eps=epsilon, alpha=alpha, iters=pgd_steps)\n",
        "        out_adv = model(adv_imgs)\n",
        "\n",
        "        loss = 0.7 * crit(out_clean, labels) + 0.3 * crit(out_adv, labels)\n",
        "\n",
        "        opt.zero_grad()\n",
        "        loss.backward()\n",
        "        opt.step()\n",
        "\n",
        "        total_loss += loss.item() * imgs.size(0)\n",
        "        total_corr += (out_clean.argmax(1) == labels).sum().item()\n",
        "        total_num += imgs.size(0)\n",
        "\n",
        "    scheduler.step()\n",
        "    avg_loss = total_loss / total_num\n",
        "    acc = 100. * total_corr / total_num\n",
        "    print(f\"[Epoch {epoch:2d}] Loss={avg_loss:.4f}, Clean Acc={acc:.2f}%\")"
      ],
      "metadata": {
        "colab": {
          "base_uri": "https://localhost:8080/"
        },
        "id": "6kzeG8EnCDXv",
        "outputId": "31a5339d-24e0-4de5-8cb9-3f3efb3aef78"
      },
      "execution_count": null,
      "outputs": [
        {
          "output_type": "stream",
          "name": "stderr",
          "text": [
            "Epoch 1/25 (PGD steps: 1): 100%|██████████| 782/782 [00:53<00:00, 14.64it/s]\n"
          ]
        },
        {
          "output_type": "stream",
          "name": "stdout",
          "text": [
            "[Epoch  1] Loss=1.4507, Clean Acc=49.16%\n"
          ]
        },
        {
          "output_type": "stream",
          "name": "stderr",
          "text": [
            "Epoch 2/25 (PGD steps: 2): 100%|██████████| 782/782 [01:09<00:00, 11.29it/s]\n"
          ]
        },
        {
          "output_type": "stream",
          "name": "stdout",
          "text": [
            "[Epoch  2] Loss=1.4000, Clean Acc=52.53%\n"
          ]
        },
        {
          "output_type": "stream",
          "name": "stderr",
          "text": [
            "Epoch 3/25 (PGD steps: 2): 100%|██████████| 782/782 [01:10<00:00, 11.11it/s]\n"
          ]
        },
        {
          "output_type": "stream",
          "name": "stdout",
          "text": [
            "[Epoch  3] Loss=1.3626, Clean Acc=54.20%\n"
          ]
        },
        {
          "output_type": "stream",
          "name": "stderr",
          "text": [
            "Epoch 4/25 (PGD steps: 3): 100%|██████████| 782/782 [01:27<00:00,  8.92it/s]\n"
          ]
        },
        {
          "output_type": "stream",
          "name": "stdout",
          "text": [
            "[Epoch  4] Loss=1.3761, Clean Acc=55.28%\n"
          ]
        },
        {
          "output_type": "stream",
          "name": "stderr",
          "text": [
            "Epoch 5/25 (PGD steps: 3): 100%|██████████| 782/782 [01:27<00:00,  8.92it/s]\n"
          ]
        },
        {
          "output_type": "stream",
          "name": "stdout",
          "text": [
            "[Epoch  5] Loss=1.3524, Clean Acc=56.45%\n"
          ]
        },
        {
          "output_type": "stream",
          "name": "stderr",
          "text": [
            "Epoch 6/25 (PGD steps: 4): 100%|██████████| 782/782 [01:44<00:00,  7.51it/s]\n"
          ]
        },
        {
          "output_type": "stream",
          "name": "stdout",
          "text": [
            "[Epoch  6] Loss=1.3675, Clean Acc=56.95%\n"
          ]
        },
        {
          "output_type": "stream",
          "name": "stderr",
          "text": [
            "Epoch 7/25 (PGD steps: 4): 100%|██████████| 782/782 [01:44<00:00,  7.51it/s]\n"
          ]
        },
        {
          "output_type": "stream",
          "name": "stdout",
          "text": [
            "[Epoch  7] Loss=1.3486, Clean Acc=58.06%\n"
          ]
        },
        {
          "output_type": "stream",
          "name": "stderr",
          "text": [
            "Epoch 8/25 (PGD steps: 5): 100%|██████████| 782/782 [02:00<00:00,  6.49it/s]\n"
          ]
        },
        {
          "output_type": "stream",
          "name": "stdout",
          "text": [
            "[Epoch  8] Loss=1.3553, Clean Acc=58.78%\n"
          ]
        },
        {
          "output_type": "stream",
          "name": "stderr",
          "text": [
            "Epoch 9/25 (PGD steps: 5): 100%|██████████| 782/782 [02:00<00:00,  6.49it/s]\n"
          ]
        },
        {
          "output_type": "stream",
          "name": "stdout",
          "text": [
            "[Epoch  9] Loss=1.3374, Clean Acc=59.90%\n"
          ]
        },
        {
          "output_type": "stream",
          "name": "stderr",
          "text": [
            "Epoch 10/25 (PGD steps: 6): 100%|██████████| 782/782 [02:16<00:00,  5.73it/s]\n"
          ]
        },
        {
          "output_type": "stream",
          "name": "stdout",
          "text": [
            "[Epoch 10] Loss=1.3392, Clean Acc=60.71%\n"
          ]
        },
        {
          "output_type": "stream",
          "name": "stderr",
          "text": [
            "Epoch 11/25 (PGD steps: 6): 100%|██████████| 782/782 [02:16<00:00,  5.73it/s]\n"
          ]
        },
        {
          "output_type": "stream",
          "name": "stdout",
          "text": [
            "[Epoch 11] Loss=1.2677, Clean Acc=64.85%\n"
          ]
        },
        {
          "output_type": "stream",
          "name": "stderr",
          "text": [
            "Epoch 12/25 (PGD steps: 7): 100%|██████████| 782/782 [02:33<00:00,  5.10it/s]\n"
          ]
        },
        {
          "output_type": "stream",
          "name": "stdout",
          "text": [
            "[Epoch 12] Loss=1.2583, Clean Acc=66.29%\n"
          ]
        },
        {
          "output_type": "stream",
          "name": "stderr",
          "text": [
            "Epoch 13/25 (PGD steps: 7): 100%|██████████| 782/782 [02:33<00:00,  5.10it/s]\n"
          ]
        },
        {
          "output_type": "stream",
          "name": "stdout",
          "text": [
            "[Epoch 13] Loss=1.2445, Clean Acc=67.38%\n"
          ]
        },
        {
          "output_type": "stream",
          "name": "stderr",
          "text": [
            "Epoch 14/25 (PGD steps: 7): 100%|██████████| 782/782 [02:33<00:00,  5.09it/s]\n"
          ]
        },
        {
          "output_type": "stream",
          "name": "stdout",
          "text": [
            "[Epoch 14] Loss=1.2306, Clean Acc=68.43%\n"
          ]
        },
        {
          "output_type": "stream",
          "name": "stderr",
          "text": [
            "Epoch 15/25 (PGD steps: 7): 100%|██████████| 782/782 [02:33<00:00,  5.09it/s]\n"
          ]
        },
        {
          "output_type": "stream",
          "name": "stdout",
          "text": [
            "[Epoch 15] Loss=1.2154, Clean Acc=69.40%\n"
          ]
        },
        {
          "output_type": "stream",
          "name": "stderr",
          "text": [
            "Epoch 16/25 (PGD steps: 7): 100%|██████████| 782/782 [02:33<00:00,  5.11it/s]\n"
          ]
        },
        {
          "output_type": "stream",
          "name": "stdout",
          "text": [
            "[Epoch 16] Loss=1.2015, Clean Acc=70.38%\n"
          ]
        },
        {
          "output_type": "stream",
          "name": "stderr",
          "text": [
            "Epoch 17/25 (PGD steps: 7): 100%|██████████| 782/782 [02:32<00:00,  5.11it/s]\n"
          ]
        },
        {
          "output_type": "stream",
          "name": "stdout",
          "text": [
            "[Epoch 17] Loss=1.1865, Clean Acc=71.25%\n"
          ]
        },
        {
          "output_type": "stream",
          "name": "stderr",
          "text": [
            "Epoch 18/25 (PGD steps: 7): 100%|██████████| 782/782 [02:32<00:00,  5.12it/s]\n"
          ]
        },
        {
          "output_type": "stream",
          "name": "stdout",
          "text": [
            "[Epoch 18] Loss=1.1685, Clean Acc=72.33%\n"
          ]
        },
        {
          "output_type": "stream",
          "name": "stderr",
          "text": [
            "Epoch 19/25 (PGD steps: 7): 100%|██████████| 782/782 [02:32<00:00,  5.11it/s]\n"
          ]
        },
        {
          "output_type": "stream",
          "name": "stdout",
          "text": [
            "[Epoch 19] Loss=1.1359, Clean Acc=73.47%\n"
          ]
        },
        {
          "output_type": "stream",
          "name": "stderr",
          "text": [
            "Epoch 20/25 (PGD steps: 7): 100%|██████████| 782/782 [02:32<00:00,  5.12it/s]\n"
          ]
        },
        {
          "output_type": "stream",
          "name": "stdout",
          "text": [
            "[Epoch 20] Loss=1.0634, Clean Acc=74.86%\n"
          ]
        },
        {
          "output_type": "stream",
          "name": "stderr",
          "text": [
            "Epoch 21/25 (PGD steps: 7): 100%|██████████| 782/782 [02:32<00:00,  5.11it/s]\n"
          ]
        },
        {
          "output_type": "stream",
          "name": "stdout",
          "text": [
            "[Epoch 21] Loss=0.9807, Clean Acc=77.22%\n"
          ]
        },
        {
          "output_type": "stream",
          "name": "stderr",
          "text": [
            "Epoch 22/25 (PGD steps: 7): 100%|██████████| 782/782 [02:32<00:00,  5.13it/s]\n"
          ]
        },
        {
          "output_type": "stream",
          "name": "stdout",
          "text": [
            "[Epoch 22] Loss=0.9703, Clean Acc=77.74%\n"
          ]
        },
        {
          "output_type": "stream",
          "name": "stderr",
          "text": [
            "Epoch 23/25 (PGD steps: 7): 100%|██████████| 782/782 [02:32<00:00,  5.12it/s]\n"
          ]
        },
        {
          "output_type": "stream",
          "name": "stdout",
          "text": [
            "[Epoch 23] Loss=0.9601, Clean Acc=78.16%\n"
          ]
        },
        {
          "output_type": "stream",
          "name": "stderr",
          "text": [
            "Epoch 24/25 (PGD steps: 7): 100%|██████████| 782/782 [02:32<00:00,  5.12it/s]\n"
          ]
        },
        {
          "output_type": "stream",
          "name": "stdout",
          "text": [
            "[Epoch 24] Loss=0.9540, Clean Acc=78.31%\n"
          ]
        },
        {
          "output_type": "stream",
          "name": "stderr",
          "text": [
            "Epoch 25/25 (PGD steps: 7): 100%|██████████| 782/782 [02:34<00:00,  5.06it/s]"
          ]
        },
        {
          "output_type": "stream",
          "name": "stdout",
          "text": [
            "[Epoch 25] Loss=0.9496, Clean Acc=78.50%\n"
          ]
        },
        {
          "output_type": "stream",
          "name": "stderr",
          "text": [
            "\n"
          ]
        }
      ]
    },
    {
      "cell_type": "code",
      "source": [
        "  # --- Save Model ---\n",
        "os.makedirs(\"saved_models\", exist_ok=True)\n",
        "torch.save(model.state_dict(), \"saved_models/PGD_madry_model_optim_last.pt\")\n",
        "print(\"Model saved → saved_models/PGD_madry_model_optim_last.pt\")"
      ],
      "metadata": {
        "colab": {
          "base_uri": "https://localhost:8080/"
        },
        "id": "BiBMZdGLCIAe",
        "outputId": "604e5ef5-e0d7-43aa-da3b-dcb348917230"
      },
      "execution_count": null,
      "outputs": [
        {
          "output_type": "stream",
          "name": "stdout",
          "text": [
            "Model saved → saved_models/PGD_madry_model_optim_last.pt\n"
          ]
        }
      ]
    },
    {
      "cell_type": "markdown",
      "source": [
        "#### TRAINING LOOP: 75-25 data comp"
      ],
      "metadata": {
        "id": "ApISnjy4UvhD"
      }
    },
    {
      "cell_type": "code",
      "source": [
        "\n",
        "# --- model & optimiser ---\n",
        "model = models.resnet18(weights=None)\n",
        "model.fc = nn.Linear(model.fc.in_features, 10)\n",
        "model  = model.to(device)\n",
        "\n",
        "opt = torch.optim.SGD(model.parameters(), lr=base_lr,\n",
        "                      momentum=0.9, weight_decay=5e-4)\n",
        "scheduler = torch.optim.lr_scheduler.CosineAnnealingLR(opt, T_max=epochs)\n",
        "crit = nn.CrossEntropyLoss()\n",
        "\n",
        "# --- training loop ---\n",
        "for epoch in range(1, epochs + 1):\n",
        "    model.train()\n",
        "    total_loss, total_corr, total_num = 0.0, 0, 0\n",
        "    pgd_steps = min(1 + epoch // 3, pgd_max_steps)   # slower ramp: 1,2,3…7\n",
        "\n",
        "    for imgs, labels in loader:\n",
        "        imgs, labels = imgs.to(device), labels.to(device)\n",
        "\n",
        "        # clean forward\n",
        "        logits_clean = model(imgs)\n",
        "\n",
        "        # PGD adversary\n",
        "        adv_imgs = pgd_attack(model, imgs, labels,\n",
        "                              eps=epsilon, alpha=alpha, iters=pgd_steps)\n",
        "        logits_adv = model(adv_imgs)\n",
        "\n",
        "        # blended TRADES-style loss\n",
        "        loss = (clean_ratio * crit(logits_clean, labels) +\n",
        "               (1 - clean_ratio) * crit(logits_adv,  labels))\n",
        "\n",
        "        opt.zero_grad()\n",
        "        loss.backward()\n",
        "        opt.step()\n",
        "\n",
        "        total_loss += loss.item() * imgs.size(0)\n",
        "        total_corr += (logits_clean.argmax(1) == labels).sum().item()\n",
        "        total_num  += imgs.size(0)\n",
        "\n",
        "    scheduler.step()\n",
        "    print(f\"[Ep {epoch:02d}] loss {total_loss/total_num:.4f}  \"\n",
        "          f\"cleanAcc {100*total_corr/total_num:.2f}%  pgdK={pgd_steps}\")\n",
        "\n",
        "\n"
      ],
      "metadata": {
        "colab": {
          "base_uri": "https://localhost:8080/"
        },
        "id": "ZF3FrS80Uy-w",
        "outputId": "92594625-4497-430e-afe3-83dd568731b2"
      },
      "execution_count": 10,
      "outputs": [
        {
          "output_type": "stream",
          "name": "stdout",
          "text": [
            "[Ep 01] loss 1.6318  cleanAcc 43.60%  pgdK=1\n",
            "[Ep 02] loss 1.3858  cleanAcc 49.66%  pgdK=1\n",
            "[Ep 03] loss 1.3643  cleanAcc 51.23%  pgdK=2\n",
            "[Ep 04] loss 1.3393  cleanAcc 52.37%  pgdK=2\n",
            "[Ep 05] loss 1.3201  cleanAcc 53.42%  pgdK=2\n",
            "[Ep 06] loss 1.3365  cleanAcc 53.88%  pgdK=3\n",
            "[Ep 07] loss 1.3272  cleanAcc 54.11%  pgdK=3\n",
            "[Ep 08] loss 1.3236  cleanAcc 54.44%  pgdK=3\n",
            "[Ep 09] loss 1.3333  cleanAcc 54.87%  pgdK=4\n",
            "[Ep 10] loss 1.3256  cleanAcc 55.54%  pgdK=4\n",
            "[Ep 11] loss 1.3207  cleanAcc 55.35%  pgdK=4\n",
            "[Ep 12] loss 1.3296  cleanAcc 55.98%  pgdK=5\n",
            "[Ep 13] loss 1.3231  cleanAcc 56.24%  pgdK=5\n",
            "[Ep 14] loss 1.3147  cleanAcc 56.63%  pgdK=5\n",
            "[Ep 15] loss 1.3204  cleanAcc 57.10%  pgdK=6\n",
            "[Ep 16] loss 1.3112  cleanAcc 57.45%  pgdK=6\n",
            "[Ep 17] loss 1.2996  cleanAcc 57.91%  pgdK=6\n",
            "[Ep 18] loss 1.3048  cleanAcc 58.53%  pgdK=7\n",
            "[Ep 19] loss 1.2915  cleanAcc 59.15%  pgdK=7\n",
            "[Ep 20] loss 1.2768  cleanAcc 60.15%  pgdK=7\n",
            "[Ep 21] loss 1.2641  cleanAcc 60.78%  pgdK=7\n",
            "[Ep 22] loss 1.2479  cleanAcc 61.65%  pgdK=7\n",
            "[Ep 23] loss 1.2271  cleanAcc 62.87%  pgdK=7\n",
            "[Ep 24] loss 1.2055  cleanAcc 64.21%  pgdK=7\n",
            "[Ep 25] loss 1.1773  cleanAcc 65.72%  pgdK=7\n",
            "[Ep 26] loss 1.1403  cleanAcc 67.95%  pgdK=7\n",
            "[Ep 27] loss 1.0971  cleanAcc 70.72%  pgdK=7\n",
            "[Ep 28] loss 1.0408  cleanAcc 74.00%  pgdK=7\n",
            "[Ep 29] loss 0.9777  cleanAcc 77.67%  pgdK=7\n",
            "[Ep 30] loss 0.9241  cleanAcc 80.69%  pgdK=7\n"
          ]
        }
      ]
    },
    {
      "cell_type": "code",
      "source": [
        "  # --- Save Model ---\n",
        "os.makedirs(\"saved_models\", exist_ok=True)\n",
        "torch.save(model.state_dict(), \"/content/saved_models/PGD_7525.pt\")\n",
        "print(\"Model saved → saved_models/PGD_7525.pt\")"
      ],
      "metadata": {
        "colab": {
          "base_uri": "https://localhost:8080/"
        },
        "id": "neOwqgO5U3-4",
        "outputId": "3bb1d69a-8b0a-4b23-9d77-efa053907b2f"
      },
      "execution_count": 11,
      "outputs": [
        {
          "output_type": "stream",
          "name": "stdout",
          "text": [
            "Model saved → saved_models/PGD_7525.pt\n"
          ]
        }
      ]
    },
    {
      "cell_type": "code",
      "source": [
        "from google.colab import files\n",
        "files.download(\"/content/saved_models/PGD_7525.pt\")"
      ],
      "metadata": {
        "colab": {
          "base_uri": "https://localhost:8080/",
          "height": 17
        },
        "id": "hPlyIt9Cf6Uc",
        "outputId": "72fb0816-c4e6-4423-d166-39ef2887f65f"
      },
      "execution_count": 12,
      "outputs": [
        {
          "output_type": "display_data",
          "data": {
            "text/plain": [
              "<IPython.core.display.Javascript object>"
            ],
            "application/javascript": [
              "\n",
              "    async function download(id, filename, size) {\n",
              "      if (!google.colab.kernel.accessAllowed) {\n",
              "        return;\n",
              "      }\n",
              "      const div = document.createElement('div');\n",
              "      const label = document.createElement('label');\n",
              "      label.textContent = `Downloading \"${filename}\": `;\n",
              "      div.appendChild(label);\n",
              "      const progress = document.createElement('progress');\n",
              "      progress.max = size;\n",
              "      div.appendChild(progress);\n",
              "      document.body.appendChild(div);\n",
              "\n",
              "      const buffers = [];\n",
              "      let downloaded = 0;\n",
              "\n",
              "      const channel = await google.colab.kernel.comms.open(id);\n",
              "      // Send a message to notify the kernel that we're ready.\n",
              "      channel.send({})\n",
              "\n",
              "      for await (const message of channel.messages) {\n",
              "        // Send a message to notify the kernel that we're ready.\n",
              "        channel.send({})\n",
              "        if (message.buffers) {\n",
              "          for (const buffer of message.buffers) {\n",
              "            buffers.push(buffer);\n",
              "            downloaded += buffer.byteLength;\n",
              "            progress.value = downloaded;\n",
              "          }\n",
              "        }\n",
              "      }\n",
              "      const blob = new Blob(buffers, {type: 'application/binary'});\n",
              "      const a = document.createElement('a');\n",
              "      a.href = window.URL.createObjectURL(blob);\n",
              "      a.download = filename;\n",
              "      div.appendChild(a);\n",
              "      a.click();\n",
              "      div.remove();\n",
              "    }\n",
              "  "
            ]
          },
          "metadata": {}
        },
        {
          "output_type": "display_data",
          "data": {
            "text/plain": [
              "<IPython.core.display.Javascript object>"
            ],
            "application/javascript": [
              "download(\"download_c4d1de46-5d4e-4e6c-adab-b50d017400aa\", \"PGD_7525.pt\", 44805500)"
            ]
          },
          "metadata": {}
        }
      ]
    },
    {
      "cell_type": "markdown",
      "source": [
        "#### TRAINING LOOP 80-20 data comp"
      ],
      "metadata": {
        "id": "CWEMkD_2l-Kf"
      }
    },
    {
      "cell_type": "code",
      "source": [
        "# --- Training Loop ---\n",
        "for epoch in range(1, epochs + 1):\n",
        "    model.train()\n",
        "    total_loss, total_corr, total_num = 0.0, 0, 0\n",
        "    pgd_steps = min(1 + epoch // 2, pgd_max_steps)\n",
        "\n",
        "    for imgs, labels in tqdm(loader, desc=f\"Epoch {epoch}/{epochs} (PGD steps: {pgd_steps})\"):\n",
        "        imgs, labels = imgs.to(device), labels.to(device)\n",
        "\n",
        "        # 70% clean, 30% PGD adversarial examples\n",
        "        out_clean = model(imgs)\n",
        "        adv_imgs = pgd_attack(model, imgs, labels, eps=epsilon, alpha=alpha, iters=pgd_steps)\n",
        "        out_adv = model(adv_imgs)\n",
        "\n",
        "        loss = 0.7 * crit(out_clean, labels) + 0.3 * crit(out_adv, labels)\n",
        "\n",
        "        opt.zero_grad()\n",
        "        loss.backward()\n",
        "        opt.step()\n",
        "\n",
        "        total_loss += loss.item() * imgs.size(0)\n",
        "        total_corr += (out_clean.argmax(1) == labels).sum().item()\n",
        "        total_num += imgs.size(0)\n",
        "\n",
        "    scheduler.step()\n",
        "    avg_loss = total_loss / total_num\n",
        "    acc = 100. * total_corr / total_num\n",
        "    print(f\"[Epoch {epoch:2d}] Loss={avg_loss:.4f}, Clean Acc={acc:.2f}%\")"
      ],
      "metadata": {
        "colab": {
          "base_uri": "https://localhost:8080/"
        },
        "id": "jXrl1c6gmC3e",
        "outputId": "9b74ea2d-e04e-49ac-b7a4-f88cb41cb190"
      },
      "execution_count": 8,
      "outputs": [
        {
          "output_type": "stream",
          "name": "stderr",
          "text": [
            "Epoch 1/25 (PGD steps: 1): 100%|██████████| 782/782 [00:57<00:00, 13.71it/s]\n"
          ]
        },
        {
          "output_type": "stream",
          "name": "stdout",
          "text": [
            "[Epoch  1] Loss=1.4491, Clean Acc=49.10%\n"
          ]
        },
        {
          "output_type": "stream",
          "name": "stderr",
          "text": [
            "Epoch 2/25 (PGD steps: 2): 100%|██████████| 782/782 [01:10<00:00, 11.16it/s]\n"
          ]
        },
        {
          "output_type": "stream",
          "name": "stdout",
          "text": [
            "[Epoch  2] Loss=1.3998, Clean Acc=52.87%\n"
          ]
        },
        {
          "output_type": "stream",
          "name": "stderr",
          "text": [
            "Epoch 3/25 (PGD steps: 2): 100%|██████████| 782/782 [01:10<00:00, 11.13it/s]\n"
          ]
        },
        {
          "output_type": "stream",
          "name": "stdout",
          "text": [
            "[Epoch  3] Loss=1.3606, Clean Acc=54.37%\n"
          ]
        },
        {
          "output_type": "stream",
          "name": "stderr",
          "text": [
            "Epoch 4/25 (PGD steps: 3): 100%|██████████| 782/782 [01:27<00:00,  8.98it/s]\n"
          ]
        },
        {
          "output_type": "stream",
          "name": "stdout",
          "text": [
            "[Epoch  4] Loss=1.3790, Clean Acc=55.09%\n"
          ]
        },
        {
          "output_type": "stream",
          "name": "stderr",
          "text": [
            "Epoch 5/25 (PGD steps: 3): 100%|██████████| 782/782 [01:27<00:00,  8.93it/s]\n"
          ]
        },
        {
          "output_type": "stream",
          "name": "stdout",
          "text": [
            "[Epoch  5] Loss=1.3547, Clean Acc=56.24%\n"
          ]
        },
        {
          "output_type": "stream",
          "name": "stderr",
          "text": [
            "Epoch 6/25 (PGD steps: 4): 100%|██████████| 782/782 [01:43<00:00,  7.53it/s]\n"
          ]
        },
        {
          "output_type": "stream",
          "name": "stdout",
          "text": [
            "[Epoch  6] Loss=1.3687, Clean Acc=56.91%\n"
          ]
        },
        {
          "output_type": "stream",
          "name": "stderr",
          "text": [
            "Epoch 7/25 (PGD steps: 4): 100%|██████████| 782/782 [01:43<00:00,  7.53it/s]\n"
          ]
        },
        {
          "output_type": "stream",
          "name": "stdout",
          "text": [
            "[Epoch  7] Loss=1.3491, Clean Acc=57.80%\n"
          ]
        },
        {
          "output_type": "stream",
          "name": "stderr",
          "text": [
            "Epoch 8/25 (PGD steps: 5): 100%|██████████| 782/782 [01:59<00:00,  6.52it/s]\n"
          ]
        },
        {
          "output_type": "stream",
          "name": "stdout",
          "text": [
            "[Epoch  8] Loss=1.3557, Clean Acc=58.82%\n"
          ]
        },
        {
          "output_type": "stream",
          "name": "stderr",
          "text": [
            "Epoch 9/25 (PGD steps: 5): 100%|██████████| 782/782 [02:00<00:00,  6.51it/s]\n"
          ]
        },
        {
          "output_type": "stream",
          "name": "stdout",
          "text": [
            "[Epoch  9] Loss=1.3403, Clean Acc=59.67%\n"
          ]
        },
        {
          "output_type": "stream",
          "name": "stderr",
          "text": [
            "Epoch 10/25 (PGD steps: 6): 100%|██████████| 782/782 [02:15<00:00,  5.77it/s]\n"
          ]
        },
        {
          "output_type": "stream",
          "name": "stdout",
          "text": [
            "[Epoch 10] Loss=1.3386, Clean Acc=60.70%\n"
          ]
        },
        {
          "output_type": "stream",
          "name": "stderr",
          "text": [
            "Epoch 11/25 (PGD steps: 6): 100%|██████████| 782/782 [02:15<00:00,  5.76it/s]\n"
          ]
        },
        {
          "output_type": "stream",
          "name": "stdout",
          "text": [
            "[Epoch 11] Loss=1.2670, Clean Acc=64.80%\n"
          ]
        },
        {
          "output_type": "stream",
          "name": "stderr",
          "text": [
            "Epoch 12/25 (PGD steps: 7): 100%|██████████| 782/782 [02:32<00:00,  5.13it/s]\n"
          ]
        },
        {
          "output_type": "stream",
          "name": "stdout",
          "text": [
            "[Epoch 12] Loss=1.2608, Clean Acc=66.17%\n"
          ]
        },
        {
          "output_type": "stream",
          "name": "stderr",
          "text": [
            "Epoch 13/25 (PGD steps: 7): 100%|██████████| 782/782 [02:32<00:00,  5.12it/s]\n"
          ]
        },
        {
          "output_type": "stream",
          "name": "stdout",
          "text": [
            "[Epoch 13] Loss=1.2450, Clean Acc=67.24%\n"
          ]
        },
        {
          "output_type": "stream",
          "name": "stderr",
          "text": [
            "Epoch 14/25 (PGD steps: 7): 100%|██████████| 782/782 [02:32<00:00,  5.12it/s]\n"
          ]
        },
        {
          "output_type": "stream",
          "name": "stdout",
          "text": [
            "[Epoch 14] Loss=1.2299, Clean Acc=68.29%\n"
          ]
        },
        {
          "output_type": "stream",
          "name": "stderr",
          "text": [
            "Epoch 15/25 (PGD steps: 7): 100%|██████████| 782/782 [02:33<00:00,  5.11it/s]\n"
          ]
        },
        {
          "output_type": "stream",
          "name": "stdout",
          "text": [
            "[Epoch 15] Loss=1.2136, Clean Acc=69.37%\n"
          ]
        },
        {
          "output_type": "stream",
          "name": "stderr",
          "text": [
            "Epoch 16/25 (PGD steps: 7): 100%|██████████| 782/782 [02:32<00:00,  5.13it/s]\n"
          ]
        },
        {
          "output_type": "stream",
          "name": "stdout",
          "text": [
            "[Epoch 16] Loss=1.1957, Clean Acc=70.14%\n"
          ]
        },
        {
          "output_type": "stream",
          "name": "stderr",
          "text": [
            "Epoch 17/25 (PGD steps: 7): 100%|██████████| 782/782 [02:32<00:00,  5.12it/s]\n"
          ]
        },
        {
          "output_type": "stream",
          "name": "stdout",
          "text": [
            "[Epoch 17] Loss=1.1487, Clean Acc=71.66%\n"
          ]
        },
        {
          "output_type": "stream",
          "name": "stderr",
          "text": [
            "Epoch 18/25 (PGD steps: 7): 100%|██████████| 782/782 [02:32<00:00,  5.11it/s]\n"
          ]
        },
        {
          "output_type": "stream",
          "name": "stdout",
          "text": [
            "[Epoch 18] Loss=1.0661, Clean Acc=73.23%\n"
          ]
        },
        {
          "output_type": "stream",
          "name": "stderr",
          "text": [
            "Epoch 19/25 (PGD steps: 7): 100%|██████████| 782/782 [02:32<00:00,  5.12it/s]\n"
          ]
        },
        {
          "output_type": "stream",
          "name": "stdout",
          "text": [
            "[Epoch 19] Loss=1.0142, Clean Acc=75.20%\n"
          ]
        },
        {
          "output_type": "stream",
          "name": "stderr",
          "text": [
            "Epoch 20/25 (PGD steps: 7): 100%|██████████| 782/782 [02:32<00:00,  5.12it/s]\n"
          ]
        },
        {
          "output_type": "stream",
          "name": "stdout",
          "text": [
            "[Epoch 20] Loss=0.9818, Clean Acc=76.64%\n"
          ]
        },
        {
          "output_type": "stream",
          "name": "stderr",
          "text": [
            "Epoch 21/25 (PGD steps: 7): 100%|██████████| 782/782 [02:32<00:00,  5.12it/s]\n"
          ]
        },
        {
          "output_type": "stream",
          "name": "stdout",
          "text": [
            "[Epoch 21] Loss=0.9281, Clean Acc=79.27%\n"
          ]
        },
        {
          "output_type": "stream",
          "name": "stderr",
          "text": [
            "Epoch 22/25 (PGD steps: 7): 100%|██████████| 782/782 [02:32<00:00,  5.12it/s]\n"
          ]
        },
        {
          "output_type": "stream",
          "name": "stdout",
          "text": [
            "[Epoch 22] Loss=0.9172, Clean Acc=79.58%\n"
          ]
        },
        {
          "output_type": "stream",
          "name": "stderr",
          "text": [
            "Epoch 23/25 (PGD steps: 7): 100%|██████████| 782/782 [02:32<00:00,  5.11it/s]\n"
          ]
        },
        {
          "output_type": "stream",
          "name": "stdout",
          "text": [
            "[Epoch 23] Loss=0.9144, Clean Acc=79.73%\n"
          ]
        },
        {
          "output_type": "stream",
          "name": "stderr",
          "text": [
            "Epoch 24/25 (PGD steps: 7): 100%|██████████| 782/782 [02:33<00:00,  5.10it/s]\n"
          ]
        },
        {
          "output_type": "stream",
          "name": "stdout",
          "text": [
            "[Epoch 24] Loss=0.9090, Clean Acc=79.94%\n"
          ]
        },
        {
          "output_type": "stream",
          "name": "stderr",
          "text": [
            "Epoch 25/25 (PGD steps: 7): 100%|██████████| 782/782 [02:32<00:00,  5.12it/s]"
          ]
        },
        {
          "output_type": "stream",
          "name": "stdout",
          "text": [
            "[Epoch 25] Loss=0.9045, Clean Acc=80.21%\n"
          ]
        },
        {
          "output_type": "stream",
          "name": "stderr",
          "text": [
            "\n"
          ]
        }
      ]
    },
    {
      "cell_type": "code",
      "source": [
        "  # --- Save Model ---\n",
        "os.makedirs(\"saved_models\", exist_ok=True)\n",
        "torch.save(model.state_dict(), \"/content/saved_models/PGD_8020.pt\")\n",
        "print(\"Model saved → saved_models/PGD_8020.pt\")"
      ],
      "metadata": {
        "colab": {
          "base_uri": "https://localhost:8080/"
        },
        "id": "05u5S0_XmG49",
        "outputId": "0289ab09-a629-4ce5-9b5e-6ecc9af59379"
      },
      "execution_count": 9,
      "outputs": [
        {
          "output_type": "stream",
          "name": "stdout",
          "text": [
            "Model saved → saved_models/PGD_8020.pt\n"
          ]
        }
      ]
    },
    {
      "cell_type": "code",
      "source": [
        "from google.colab import files\n",
        "files.download(\"/content/saved_models/PGD_8020.pt\")"
      ],
      "metadata": {
        "colab": {
          "base_uri": "https://localhost:8080/",
          "height": 17
        },
        "id": "21aiGou1mLp-",
        "outputId": "b0afef5b-3b99-46e2-86b2-dd42bd5d5088"
      },
      "execution_count": 10,
      "outputs": [
        {
          "output_type": "display_data",
          "data": {
            "text/plain": [
              "<IPython.core.display.Javascript object>"
            ],
            "application/javascript": [
              "\n",
              "    async function download(id, filename, size) {\n",
              "      if (!google.colab.kernel.accessAllowed) {\n",
              "        return;\n",
              "      }\n",
              "      const div = document.createElement('div');\n",
              "      const label = document.createElement('label');\n",
              "      label.textContent = `Downloading \"${filename}\": `;\n",
              "      div.appendChild(label);\n",
              "      const progress = document.createElement('progress');\n",
              "      progress.max = size;\n",
              "      div.appendChild(progress);\n",
              "      document.body.appendChild(div);\n",
              "\n",
              "      const buffers = [];\n",
              "      let downloaded = 0;\n",
              "\n",
              "      const channel = await google.colab.kernel.comms.open(id);\n",
              "      // Send a message to notify the kernel that we're ready.\n",
              "      channel.send({})\n",
              "\n",
              "      for await (const message of channel.messages) {\n",
              "        // Send a message to notify the kernel that we're ready.\n",
              "        channel.send({})\n",
              "        if (message.buffers) {\n",
              "          for (const buffer of message.buffers) {\n",
              "            buffers.push(buffer);\n",
              "            downloaded += buffer.byteLength;\n",
              "            progress.value = downloaded;\n",
              "          }\n",
              "        }\n",
              "      }\n",
              "      const blob = new Blob(buffers, {type: 'application/binary'});\n",
              "      const a = document.createElement('a');\n",
              "      a.href = window.URL.createObjectURL(blob);\n",
              "      a.download = filename;\n",
              "      div.appendChild(a);\n",
              "      a.click();\n",
              "      div.remove();\n",
              "    }\n",
              "  "
            ]
          },
          "metadata": {}
        },
        {
          "output_type": "display_data",
          "data": {
            "text/plain": [
              "<IPython.core.display.Javascript object>"
            ],
            "application/javascript": [
              "download(\"download_cd335365-6c47-4a0d-aea4-6f834e1a832b\", \"PGD_8020.pt\", 44805500)"
            ]
          },
          "metadata": {}
        }
      ]
    },
    {
      "cell_type": "markdown",
      "source": [
        "#### Sanity check"
      ],
      "metadata": {
        "id": "G3rmP02fuWYh"
      }
    },
    {
      "cell_type": "code",
      "source": [
        "import torch, torch.nn as nn\n",
        "from torchvision import models, transforms\n",
        "from torch.utils.data import DataLoader, Dataset\n",
        "from torchvision.transforms.functional import to_pil_image\n",
        "from tqdm import tqdm\n",
        "\n",
        "MODEL_PATH = \"/content/saved_models/PGD_8020.pt\"   # <- your .pt file\n",
        "DATA_PATH  = \"/content/data/Train.pt\"                               # <- official training data\n",
        "\n",
        "# 1 ─────────────── Dataset wrapper identical to server expectation ──────────────\n",
        "# class DataWrapper(Dataset):\n",
        "#     def __init__(self, base_dataset, transform=None):\n",
        "#         self.base = base_dataset\n",
        "#         self.tf   = transform or transforms.ToTensor()\n",
        "#     def __len__(self): return len(self.base)\n",
        "#     def __getitem__(self, idx):\n",
        "#         rec = self.base[idx]\n",
        "#         img = rec[1] if len(rec)==3 else rec[0]\n",
        "#         y   = rec[2] if len(rec)==3 else rec[1]\n",
        "#         # ensure PIL → tensor in [0,1]\n",
        "#         if isinstance(img, torch.Tensor):\n",
        "#             img = to_pil_image(img.float()/255.) if img.max()>1 else to_pil_image(img)\n",
        "#         img = self.tf(img.convert(\"RGB\"))\n",
        "#         return img, int(y)\n",
        "\n",
        "raw_ds = torch.load(DATA_PATH, weights_only=False, map_location=device)\n",
        "ds     = DataWrapper(raw_ds, transform=transforms.ToTensor())\n",
        "ldr    = DataLoader(ds, batch_size=256, shuffle=False)\n",
        "\n",
        "# 2 ─────────────── strict-load the submission file ─────────────────────────────\n",
        "model = models.resnet18(weights=None)\n",
        "model.fc = nn.Linear(model.fc.in_features, 10)\n",
        "state   = torch.load(MODEL_PATH, map_location=device)\n",
        "try:\n",
        "    model.load_state_dict(state, strict=True)\n",
        "    print(\"✓ strict load succeeded.\")\n",
        "except RuntimeError as e:\n",
        "    print(\"✗ strict load FAILED!\\n\", e)\n",
        "    raise\n",
        "\n",
        "model.eval()\n",
        "\n",
        "# 3a ───────────── accuracy on images already in [0,1]  -------------------------\n",
        "def eval_acc(net, loader, scale_inputs=1.0):\n",
        "    correct = total = 0\n",
        "    with torch.no_grad():\n",
        "        for x, y in loader:\n",
        "            x = x*scale_inputs    # if scale_inputs=255 converts to uint8-like\n",
        "            out = net(x)\n",
        "            correct += (out.argmax(1) == y).sum().item()\n",
        "            total   += y.size(0)\n",
        "    return 100*correct/total\n",
        "\n",
        "acc_clean = eval_acc(model, ldr, scale_inputs=1.0)\n",
        "print(f\"Clean accuracy [0–1 input] : {acc_clean:.2f}%\")\n",
        "\n",
        "acc_uint8 = eval_acc(model, ldr, scale_inputs=255.0)\n",
        "print(f\"Clean accuracy [0–255 input]: {acc_uint8:.2f}%\")\n",
        "\n",
        "# Interpretation\n",
        "if acc_clean < 50:\n",
        "    print(\"→ Your weights are wrong or under-trained; server will reject.\")\n",
        "elif acc_uint8 < 50 and acc_clean >= 50:\n",
        "    print(\"→ Model expects [0,1] inputs but server likely feeds uint8; add a x/255 layer.\")\n",
        "else:\n",
        "    print(\"✓ Model should pass server clean-accuracy gate.\")\n"
      ],
      "metadata": {
        "id": "c8wnLQs0OY7x",
        "colab": {
          "base_uri": "https://localhost:8080/"
        },
        "outputId": "43a5ea19-b27d-428e-aea0-c7591b0f6930"
      },
      "execution_count": 11,
      "outputs": [
        {
          "output_type": "stream",
          "name": "stdout",
          "text": [
            "✓ strict load succeeded.\n",
            "Clean accuracy [0–1 input] : 52.71%\n",
            "Clean accuracy [0–255 input]: 5.40%\n",
            "→ Model expects [0,1] inputs but server likely feeds uint8; add a x/255 layer.\n"
          ]
        }
      ]
    },
    {
      "cell_type": "code",
      "source": [
        "from torchvision import models\n",
        "import torch, torch.nn as nn\n",
        "from resnet_wrapper import ResNetWrapper\n",
        "\n",
        "wrapper = ResNetWrapper(\"resnet18\", 10)\n",
        "wrapper.load_state_dict(torch.load(\"saved_models/PGD_madry_model_optim.pt\", map_location=\"cpu\"))\n",
        "\n",
        "plain = models.resnet18(weights=None)\n",
        "plain.fc = nn.Linear(plain.fc.in_features, 10)\n",
        "plain.load_state_dict(wrapper.state_dict(), strict=True)  # backbone + fc weights\n",
        "\n",
        "torch.save(plain.state_dict(), \"saved_models/resnet18_submission.pt\")\n"
      ],
      "metadata": {
        "colab": {
          "base_uri": "https://localhost:8080/"
        },
        "id": "B_NIyrTNkRGV",
        "outputId": "eac0abb1-1972-4f87-9414-755202c2c7e6"
      },
      "execution_count": null,
      "outputs": [
        {
          "output_type": "stream",
          "name": "stdout",
          "text": [
            "✅  Saved resnet18_scaled_input.pt (expects uint-8 inputs)\n"
          ]
        }
      ]
    },
    {
      "cell_type": "markdown",
      "source": [
        "### PGD+FGSM\n",
        "cosine annealing and ptimizer/scheduler are modified."
      ],
      "metadata": {
        "id": "-Yk8S7WMuaec"
      }
    },
    {
      "cell_type": "code",
      "source": [
        "import os\n",
        "import torch\n",
        "import torch.nn as nn\n",
        "import torch.nn.functional as F\n",
        "from torch.utils.data import DataLoader, Dataset\n",
        "from torchvision import transforms\n",
        "from torchvision.transforms.functional import to_pil_image\n",
        "from tqdm import tqdm\n",
        "# from resnet_wrapper import ResNetWrapper\n",
        "from torch.optim.lr_scheduler import MultiStepLR\n",
        "\n",
        "import torch, torch.nn as nn, torch.nn.functional as F\n",
        "from torchvision import transforms, models\n",
        "from torch.optim.lr_scheduler import CosineAnnealingLR\n",
        "import random\n",
        "\n"
      ],
      "metadata": {
        "id": "cfZ-7hnxl8Un"
      },
      "execution_count": null,
      "outputs": []
    },
    {
      "cell_type": "code",
      "source": [
        "eps, alpha, max_pgd = 8/255, 2/255, 7\n",
        "sigma_noise = 0.05    # light Gaussian smoothing\n",
        "total_epochs = 25\n",
        "\n",
        "\n",
        "device     = torch.device(\"cuda\" if torch.cuda.is_available() else \"cpu\")"
      ],
      "metadata": {
        "id": "ori74bwmuvYq"
      },
      "execution_count": null,
      "outputs": []
    },
    {
      "cell_type": "code",
      "source": [
        "# --- Begin: Dataset class definitions needed for torch.load ---\n",
        "import torch\n",
        "from torch.utils.data import Dataset\n",
        "from typing import Tuple\n",
        "\n",
        "class TaskDataset(Dataset):\n",
        "    def __init__(self, transform=None):\n",
        "        self.ids = []\n",
        "        self.imgs = []\n",
        "        self.labels = []\n",
        "        self.transform = transform\n",
        "\n",
        "    def __getitem__(self, index) -> Tuple[int, torch.Tensor, int]:\n",
        "        id_ = self.ids[index]\n",
        "        img = self.imgs[index]\n",
        "        if self.transform:\n",
        "            img = self.transform(img)\n",
        "        label = self.labels[index]\n",
        "        return id_, img, label\n",
        "\n",
        "    def __len__(self):\n",
        "        return len(self.ids)\n",
        "# --- End: Dataset class definitions ---\n"
      ],
      "metadata": {
        "id": "MPdJA1qBvRI9"
      },
      "execution_count": null,
      "outputs": []
    },
    {
      "cell_type": "code",
      "source": [
        "from PIL import Image\n",
        "\n",
        "class DataWrapper(Dataset):\n",
        "    \"\"\"Wraps provided TaskDataset (idx, PIL.Image, label) → (Tensor, label).\"\"\"\n",
        "    def __init__(self, base_dataset, transform=None):\n",
        "        self.base = base_dataset\n",
        "        # self.transform = transform or transforms.ToTensor()\n",
        "        self.transform = transforms.functional.to_tensor\n",
        "\n",
        "    def __len__(self):\n",
        "        return len(self.base)\n",
        "\n",
        "    def __getitem__(self, idx):\n",
        "        rec = self.base[idx]\n",
        "        if len(rec) == 3:\n",
        "            _, img, label = rec\n",
        "        elif len(rec) == 2:\n",
        "            img, label = rec\n",
        "        else:\n",
        "            raise ValueError(f\"Unexpected tuple length {len(rec)}\")\n",
        "\n",
        "        # Convert to RGB if not already\n",
        "        if isinstance(img, torch.Tensor):\n",
        "            if img.max() > 1: img = img.float() / 255.\n",
        "            img = to_pil_image(img)\n",
        "\n",
        "        if img.mode != \"RGB\":\n",
        "            img = img.convert(\"RGB\")\n",
        "\n",
        "        img = self.transform(img)\n",
        "        return img, int(label)\n"
      ],
      "metadata": {
        "id": "jItaazx7vT-b"
      },
      "execution_count": null,
      "outputs": []
    },
    {
      "cell_type": "code",
      "source": [
        "train_tf = transforms.functional.to_tensor        # <- note functional version"
      ],
      "metadata": {
        "id": "7PC88G2qvV1b"
      },
      "execution_count": null,
      "outputs": []
    },
    {
      "cell_type": "code",
      "source": [
        "raw_ds = torch.load(\"data/Train.pt\", weights_only=False, map_location=\"cpu\")\n",
        "dataset = DataWrapper(raw_ds, transform=train_tf)\n",
        "loader  = DataLoader(dataset, batch_size=128, shuffle=True, num_workers=2)"
      ],
      "metadata": {
        "id": "E3bN11Ervxf-"
      },
      "execution_count": null,
      "outputs": []
    },
    {
      "cell_type": "code",
      "source": [
        "model = models.resnet18(weights=None)\n",
        "model.fc = nn.Linear(model.fc.in_features, 10)\n",
        "model = model.to(device)"
      ],
      "metadata": {
        "id": "eOOnbMtUv2MW"
      },
      "execution_count": null,
      "outputs": []
    },
    {
      "cell_type": "code",
      "source": [
        "opt = torch.optim.SGD(model.parameters(), lr=0.2, momentum=0.9, weight_decay=5e-4)\n",
        "scheduler = CosineAnnealingLR(opt, T_max=25)       # 25 epochs total\n",
        "crit = nn.CrossEntropyLoss()"
      ],
      "metadata": {
        "id": "kcm65OK0wCHl"
      },
      "execution_count": null,
      "outputs": []
    },
    {
      "cell_type": "code",
      "source": [
        "def fgsm_rs(m, x, y, eps):\n",
        "    x_adv = (x + torch.empty_like(x).uniform_(-eps, eps)).clamp(0,1).requires_grad_(True)\n",
        "    loss  = crit(m(x_adv), y)\n",
        "    loss.backward()\n",
        "    return (x_adv + eps * x_adv.grad.sign()).clamp(0,1).detach()"
      ],
      "metadata": {
        "id": "eLzTPmt7wDhc"
      },
      "execution_count": null,
      "outputs": []
    },
    {
      "cell_type": "code",
      "source": [
        "def pgd_attack(m, x, y, eps, alpha, iters):\n",
        "    delta = torch.zeros_like(x).uniform_(-eps, eps).to(device).requires_grad_(True)\n",
        "    for _ in range(iters):\n",
        "        loss = crit(m(x + delta), y)\n",
        "        loss.backward()\n",
        "        delta.data = (delta + alpha * delta.grad.sign()).clamp(-eps, eps)\n",
        "        delta.data = (x + delta).clamp(0,1) - x\n",
        "        delta.grad.zero_()\n",
        "    return (x + delta.detach()).clamp(0,1)"
      ],
      "metadata": {
        "id": "_zAROHErwF_Q"
      },
      "execution_count": null,
      "outputs": []
    },
    {
      "cell_type": "code",
      "source": [
        "# ----- Training loop with dynamic clean/adv ratio + Gaussian noise -----\n",
        "eps, alpha, max_pgd = 8/255, 2/255, 7\n",
        "sigma_noise = 0.05    # light Gaussian smoothing\n",
        "total_epochs = 25\n",
        "\n",
        "for epoch in range(1, total_epochs+1):\n",
        "    model.train()\n",
        "    clean_ratio = max(0.9 - 0.02*epoch, 0.6)   # 90%→60% over epochs\n",
        "    pgd_k = min(1 + epoch//2, max_pgd)         # ramp PGD steps\n",
        "\n",
        "    for x, y in loader:\n",
        "        x, y = x.to(device), y.to(device)\n",
        "\n",
        "        # --- Gaussian noise augmentation ---\n",
        "        x_noisy = (x + sigma_noise * torch.randn_like(x)).clamp(0,1)\n",
        "\n",
        "        # --- Generate adversarial examples ---\n",
        "        x_pgd  = pgd_attack(model, x_noisy, y, eps, alpha, pgd_k)\n",
        "        x_fgsm = fgsm_rs(model, x_noisy, y, eps)\n",
        "\n",
        "        # --- Mix samples according to ratio ---\n",
        "        batch_size = x.size(0)\n",
        "        idx = torch.randperm(batch_size)\n",
        "        mix_mask = torch.rand(batch_size, device=device) < clean_ratio\n",
        "\n",
        "        x_mix = torch.where(mix_mask[:,None,None,None], x_noisy, x_pgd[idx])\n",
        "        # also sprinkle FGSM (replace 1/4 of PGD slots)\n",
        "        fgsm_slots = (~mix_mask) & (torch.rand(batch_size, device=device) < 0.25)\n",
        "        x_mix[fgsm_slots] = x_fgsm[fgsm_slots]\n",
        "\n",
        "        # ----- Forward, loss, backward -----\n",
        "        opt.zero_grad()\n",
        "        logits = model(x_mix)\n",
        "        loss = crit(logits, y)\n",
        "        loss.backward()\n",
        "        opt.step()\n",
        "\n",
        "    scheduler.step()\n",
        "    print(f\"Epoch {epoch}: finished with clean_ratio={clean_ratio:.2f}, pgd_steps={pgd_k}\")"
      ],
      "metadata": {
        "colab": {
          "base_uri": "https://localhost:8080/"
        },
        "id": "yA-SbkzlwHNu",
        "outputId": "6adeac4f-63a3-4285-d7b5-0f6d19bc60ac"
      },
      "execution_count": null,
      "outputs": [
        {
          "output_type": "stream",
          "name": "stdout",
          "text": [
            "Epoch 1: finished with clean_ratio=0.88, pgd_steps=1\n",
            "Epoch 2: finished with clean_ratio=0.86, pgd_steps=2\n",
            "Epoch 3: finished with clean_ratio=0.84, pgd_steps=2\n",
            "Epoch 4: finished with clean_ratio=0.82, pgd_steps=3\n",
            "Epoch 5: finished with clean_ratio=0.80, pgd_steps=3\n",
            "Epoch 6: finished with clean_ratio=0.78, pgd_steps=4\n",
            "Epoch 7: finished with clean_ratio=0.76, pgd_steps=4\n",
            "Epoch 8: finished with clean_ratio=0.74, pgd_steps=5\n",
            "Epoch 9: finished with clean_ratio=0.72, pgd_steps=5\n",
            "Epoch 10: finished with clean_ratio=0.70, pgd_steps=6\n",
            "Epoch 11: finished with clean_ratio=0.68, pgd_steps=6\n",
            "Epoch 12: finished with clean_ratio=0.66, pgd_steps=7\n",
            "Epoch 13: finished with clean_ratio=0.64, pgd_steps=7\n",
            "Epoch 14: finished with clean_ratio=0.62, pgd_steps=7\n",
            "Epoch 15: finished with clean_ratio=0.60, pgd_steps=7\n",
            "Epoch 16: finished with clean_ratio=0.60, pgd_steps=7\n",
            "Epoch 17: finished with clean_ratio=0.60, pgd_steps=7\n",
            "Epoch 18: finished with clean_ratio=0.60, pgd_steps=7\n",
            "Epoch 19: finished with clean_ratio=0.60, pgd_steps=7\n",
            "Epoch 20: finished with clean_ratio=0.60, pgd_steps=7\n",
            "Epoch 21: finished with clean_ratio=0.60, pgd_steps=7\n",
            "Epoch 22: finished with clean_ratio=0.60, pgd_steps=7\n",
            "Epoch 23: finished with clean_ratio=0.60, pgd_steps=7\n",
            "Epoch 24: finished with clean_ratio=0.60, pgd_steps=7\n",
            "Epoch 25: finished with clean_ratio=0.60, pgd_steps=7\n"
          ]
        }
      ]
    },
    {
      "cell_type": "code",
      "source": [
        "  # --- Save Model ---\n",
        "os.makedirs(\"saved_models\", exist_ok=True)\n",
        "torch.save(model.state_dict(), \"saved_models/PGD_FGSM_optim_last_unnorm.pt\")\n",
        "print(\"Model saved → saved_models/PGD_FGSM_optim_last.pt\")"
      ],
      "metadata": {
        "colab": {
          "base_uri": "https://localhost:8080/"
        },
        "id": "EMXJgRIkwMnV",
        "outputId": "cac39462-a4c5-4462-80ea-7d6cf48d1e74"
      },
      "execution_count": null,
      "outputs": [
        {
          "output_type": "stream",
          "name": "stdout",
          "text": [
            "Model saved → saved_models/PGD_FGSM_optim_last.pt\n"
          ]
        }
      ]
    },
    {
      "cell_type": "code",
      "source": [
        "import torch, torch.nn as nn\n",
        "from torchvision import models, transforms\n",
        "from torch.utils.data import DataLoader, Dataset\n",
        "from torchvision.transforms.functional import to_pil_image\n",
        "from tqdm import tqdm\n",
        "\n",
        "MODEL_PATH = \"saved_models/PGD_FGSM_optim_last_unnorm.pt\"   # <- your .pt file\n",
        "DATA_PATH  = \"/content/data/Train.pt\"                               # <- official training data\n",
        "\n",
        "# 1 ─────────────── Dataset wrapper identical to server expectation ──────────────\n",
        "# class DataWrapper(Dataset):\n",
        "#     def __init__(self, base_dataset, transform=None):\n",
        "#         self.base = base_dataset\n",
        "#         self.tf   = transform or transforms.ToTensor()\n",
        "#     def __len__(self): return len(self.base)\n",
        "#     def __getitem__(self, idx):\n",
        "#         rec = self.base[idx]\n",
        "#         img = rec[1] if len(rec)==3 else rec[0]\n",
        "#         y   = rec[2] if len(rec)==3 else rec[1]\n",
        "#         # ensure PIL → tensor in [0,1]\n",
        "#         if isinstance(img, torch.Tensor):\n",
        "#             img = to_pil_image(img.float()/255.) if img.max()>1 else to_pil_image(img)\n",
        "#         img = self.tf(img.convert(\"RGB\"))\n",
        "#         return img, int(y)\n",
        "\n",
        "raw_ds = torch.load(DATA_PATH, weights_only=False, map_location=device)\n",
        "ds     = DataWrapper(raw_ds, transform=train_tf)\n",
        "ldr    = DataLoader(ds, batch_size=256, shuffle=False)\n",
        "\n",
        "# 2 ─────────────── strict-load the submission file ─────────────────────────────\n",
        "model = models.resnet18(weights=None)\n",
        "model.fc = nn.Linear(model.fc.in_features, 10)\n",
        "state   = torch.load(MODEL_PATH, map_location=device)\n",
        "try:\n",
        "    model.load_state_dict(state, strict=True)\n",
        "    print(\"✓ strict load succeeded.\")\n",
        "except RuntimeError as e:\n",
        "    print(\"✗ strict load FAILED!\\n\", e)\n",
        "    raise\n",
        "\n",
        "model.eval()\n",
        "\n",
        "# 3a ───────────── accuracy on images already in [0,1]  -------------------------\n",
        "def eval_acc(net, loader, scale_inputs=1.0):\n",
        "    correct = total = 0\n",
        "    with torch.no_grad():\n",
        "        for x, y in loader:\n",
        "            x = x*scale_inputs    # if scale_inputs=255 converts to uint8-like\n",
        "            out = net(x)\n",
        "            correct += (out.argmax(1) == y).sum().item()\n",
        "            total   += y.size(0)\n",
        "    return 100*correct/total\n",
        "\n",
        "acc_clean = eval_acc(model, ldr, scale_inputs=1.0)\n",
        "print(f\"Clean accuracy [0–1 input] : {acc_clean:.2f}%\")\n",
        "\n",
        "acc_uint8 = eval_acc(model, ldr, scale_inputs=255.0)\n",
        "print(f\"Clean accuracy [0–255 input]: {acc_uint8:.2f}%\")\n",
        "\n",
        "# Interpretation\n",
        "if acc_clean < 50:\n",
        "    print(\"→ Your weights are wrong or under-trained; server will reject.\")\n",
        "elif acc_uint8 < 50 and acc_clean >= 50:\n",
        "    print(\"→ Model expects [0,1] inputs but server likely feeds uint8; add a x/255 layer.\")\n",
        "else:\n",
        "    print(\"✓ Model should pass server clean-accuracy gate.\")\n"
      ],
      "metadata": {
        "colab": {
          "base_uri": "https://localhost:8080/"
        },
        "id": "eG1wyf9Y5sRT",
        "outputId": "3a69edc1-c4c6-4caa-b177-3ebdca017055"
      },
      "execution_count": null,
      "outputs": [
        {
          "output_type": "stream",
          "name": "stdout",
          "text": [
            "✓ strict load succeeded.\n",
            "Clean accuracy [0–1 input] : 32.62%\n",
            "Clean accuracy [0–255 input]: 0.66%\n",
            "→ Your weights are wrong or under-trained; server will reject.\n"
          ]
        }
      ]
    },
    {
      "cell_type": "code",
      "source": [],
      "metadata": {
        "id": "IfUFaRiP8v_8"
      },
      "execution_count": null,
      "outputs": []
    }
  ]
}